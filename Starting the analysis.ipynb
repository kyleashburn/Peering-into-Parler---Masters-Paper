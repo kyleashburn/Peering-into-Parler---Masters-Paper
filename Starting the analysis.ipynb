{
 "cells": [
  {
   "cell_type": "code",
   "execution_count": 3,
   "id": "5042f2ee",
   "metadata": {},
   "outputs": [],
   "source": [
    "import ujson as json\n",
    "import pandas as pd\n",
    "import numpy as np\n",
    "import matplotlib.pyplot as plt\n",
    "import fasttext\n",
    "from pycountry import languages\n",
    "import re"
   ]
  },
  {
   "cell_type": "code",
   "execution_count": 2,
   "id": "c0565ac4",
   "metadata": {},
   "outputs": [],
   "source": [
    "# function to help figure out the language\n",
    "def lang_class(x):\n",
    "    \n",
    "    x = x .replace(\"\\n\", \" \")\n",
    "    lang = model.predict(x)\n",
    "           \n",
    "    return lang"
   ]
  },
  {
   "cell_type": "code",
   "execution_count": 3,
   "id": "767104d5",
   "metadata": {},
   "outputs": [],
   "source": [
    "# function to help retrieve the language name using the language code\n",
    "def lang_from_code(x):\n",
    "    x = x[0]\n",
    "    x = str(x)\n",
    "  \n",
    "    match = re.match(r\"__label__([a-zA-Z]+)\", x)\n",
    "    match = match.group(1)\n",
    "\n",
    "    if len(match) == 2:\n",
    "        \n",
    "        try:\n",
    "            lang = languages.get(alpha_2=match).name\n",
    "\n",
    "        except:\n",
    "            lang = match\n",
    "    elif len(match) == 3:\n",
    "        try:\n",
    "            lang = languages.get(alpha_3=match).name\n",
    "        \n",
    "        except:   \n",
    "            lang = match\n",
    "        \n",
    "    return(lang)"
   ]
  },
  {
   "cell_type": "code",
   "execution_count": 4,
   "id": "be5f4cd2",
   "metadata": {},
   "outputs": [],
   "source": [
    "# function to get the counts for domains in series passed into it\n",
    "# pass in the series and it'll iterate through the whole thing\n",
    "def count_dmns(series) -> dict:\n",
    "    dmn_dict = {}\n",
    "    \n",
    "    # kinda brute force but I'm not sure how to more efficiently do this\n",
    "    for item in series:\n",
    "        if type(item) == list:\n",
    "            for dmn in item:\n",
    "                if dmn not in dmn_dict:\n",
    "                    dmn_dict.setdefault(dmn, 1)\n",
    "\n",
    "                else:\n",
    "                    dmn_dict[dmn] += 1\n",
    "\n",
    "        else:\n",
    "            if item not in dmn_dict:\n",
    "                dmn_dict.setdefault(item, 1)\n",
    "\n",
    "            else:\n",
    "                dmn_dict[item] += 1\n",
    "                \n",
    "    # returning the dictionary of terms \n",
    "    return dmn_dict"
   ]
  },
  {
   "cell_type": "code",
   "execution_count": 10,
   "id": "09b087e1",
   "metadata": {
    "scrolled": true
   },
   "outputs": [
    {
     "data": {
      "text/plain": [
       "0          image-cdn.parler.com\n",
       "3          image-cdn.parler.com\n",
       "4          image-cdn.parler.com\n",
       "6          image-cdn.parler.com\n",
       "8          image-cdn.parler.com\n",
       "                   ...         \n",
       "2254418    image-cdn.parler.com\n",
       "2254420    image-cdn.parler.com\n",
       "2254421    image-cdn.parler.com\n",
       "2254422    image-cdn.parler.com\n",
       "2254424    image-cdn.parler.com\n",
       "Name: dmn, Length: 855447, dtype: object"
      ]
     },
     "execution_count": 10,
     "metadata": {},
     "output_type": "execute_result"
    }
   ],
   "source": [
    "# returns set of dmns without nans\n",
    "dmns_df = df[~df[\"dmn\"].isna()]\n",
    "\n",
    "# returns set of dmns without nans -> only those rows with dmns\n",
    "dmns_df = df[~df[\"dmn\"].isna()]\n",
    "\n",
    "# returns those dmns which are from the comments\n",
    "dmns_df[dmns_df[\"t\"]==\"c\"][\"dmn\"]\n",
    "\n",
    "# returns those dmns which are from the posts\n",
    "dmns_df[dmns_df[\"t\"]==\"p\"][\"dmn\"]\n",
    "\n",
    "# returns those dmns which are the ones where the body of the post is empty\n",
    "dmns_df[dmns_df[\"bo\"].isna()][\"dmn\"]"
   ]
  },
  {
   "cell_type": "code",
   "execution_count": 9,
   "id": "b3cfce69",
   "metadata": {},
   "outputs": [
    {
     "data": {
      "text/plain": [
       "1984413                   wo.an\n",
       "1984421    image-cdn.parler.com\n",
       "1984423                youtu.be\n",
       "1984438          www.google.com\n",
       "1984444    image-cdn.parler.com\n",
       "                   ...         \n",
       "2254421    image-cdn.parler.com\n",
       "2254422    image-cdn.parler.com\n",
       "2254423    image-cdn.parler.com\n",
       "2254424    image-cdn.parler.com\n",
       "2254425    image-cdn.parler.com\n",
       "Name: dmn, Length: 36581, dtype: object"
      ]
     },
     "execution_count": 9,
     "metadata": {},
     "output_type": "execute_result"
    }
   ],
   "source": []
  },
  {
   "cell_type": "markdown",
   "id": "0c9b8340",
   "metadata": {},
   "source": [
    "#### Domain Analysis"
   ]
  },
  {
   "cell_type": "markdown",
   "id": "5a1cfc66",
   "metadata": {},
   "source": [
    "Analysis to do with domains:\n",
    "* top domains within category\n",
    "* compare between comments and posts\n",
    "* compare when body is empty"
   ]
  },
  {
   "cell_type": "code",
   "execution_count": 5,
   "id": "6add50bb",
   "metadata": {},
   "outputs": [
    {
     "name": "stdout",
     "output_type": "stream",
     "text": [
      "CPU times: total: 11.8 s\n",
      "Wall time: 11.8 s\n"
     ]
    }
   ],
   "source": [
    "%%time\n",
    "# reading in the data\n",
    "df = pd.read_json(\"ext_act.ndjson\", lines=True)\n",
    "\n",
    "dmns_df = df[~df[\"dmn\"].isna()]"
   ]
  },
  {
   "cell_type": "code",
   "execution_count": 49,
   "id": "a53d9cd8",
   "metadata": {},
   "outputs": [],
   "source": [
    "# trying to take the domains results and put that in a nested dict\n",
    "dmn_data = {}"
   ]
  },
  {
   "cell_type": "code",
   "execution_count": 52,
   "id": "4e24bc0c",
   "metadata": {},
   "outputs": [
    {
     "data": {
      "text/plain": [
       "16203"
      ]
     },
     "execution_count": 52,
     "metadata": {},
     "output_type": "execute_result"
    }
   ],
   "source": [
    "len(dmns_count)"
   ]
  },
  {
   "cell_type": "code",
   "execution_count": 53,
   "id": "c2f204f5",
   "metadata": {},
   "outputs": [
    {
     "name": "stdout",
     "output_type": "stream",
     "text": [
      "CPU times: total: 20.5 s\n",
      "Wall time: 35.8 s\n"
     ]
    },
    {
     "data": {
      "text/plain": [
       "{'image-cdn.parler.com': 271122,\n",
       " 'youtu.be': 105968,\n",
       " 'youtube.com': 44452,\n",
       " 'twitter.com': 40682,\n",
       " 'i.imgur.com': 35042,\n",
       " 'facebook.com': 25407,\n",
       " 'tiny.iavian.net': 15757,\n",
       " 'thegatewaypundit.com': 14716,\n",
       " 'bbc.co.uk': 13140,\n",
       " 'breitbart.com': 9450,\n",
       " 'foxnews.com': 9158,\n",
       " 'reuters.com': 5622,\n",
       " 'naturalnews.com': 5366,\n",
       " 'nypost.com': 4994,\n",
       " 'newswars.com': 4839,\n",
       " 'americanthinker.com': 4817,\n",
       " 'washingtonexaminer.com': 4540,\n",
       " 'zerohedge.com': 4502,\n",
       " 'parler.com': 4492,\n",
       " 'townhall.com': 4452,\n",
       " 'www.youtube.com': 4328,\n",
       " 'westernjournal.com': 3893,\n",
       " 'cnn.com': 3712,\n",
       " 'tmq2.wordpress.com': 3522,\n",
       " 'rumble.com': 3285,\n",
       " 'nytimes.com': 3110,\n",
       " 'bbc.com': 3067,\n",
       " 'instagram.com': 3019,\n",
       " 'twitchy.com': 2654,\n",
       " 'thehill.com': 2644,\n",
       " 'dailycaller.com': 2631,\n",
       " 'aljazeera.com': 2601,\n",
       " 'theepochtimes.com': 2486,\n",
       " 'thefederalist.com': 2478,\n",
       " 'michaelsavage.com': 2424,\n",
       " 'redstate.com': 2297,\n",
       " 'wnd.com': 2217,\n",
       " 'washingtonpost.com': 2187,\n",
       " 'jornaldacidadeonline.com.br': 2157,\n",
       " 'bitchute.com': 2019,\n",
       " 'www.breitbart.com': 1999,\n",
       " 'dailywire.com': 1971,\n",
       " 'bizpacreview.com': 1936,\n",
       " 'infowars.com': 1911,\n",
       " 'cnbc.com': 1885,\n",
       " 'gazetabrasil.com.br': 1796,\n",
       " 'dailymail.co.uk': 1681,\n",
       " 'www.foxnews.com': 1671,\n",
       " 'theblaze.com': 1626,\n",
       " 'www.newswars.com': 1607}"
      ]
     },
     "execution_count": 53,
     "metadata": {},
     "output_type": "execute_result"
    }
   ],
   "source": [
    "%%time\n",
    "# top domains\n",
    "top_n = 50\n",
    "\n",
    "# counting the domains overall\n",
    "dmns_count = count_dmns(dmns_df[\"dmn\"])\n",
    "\n",
    "# sorting dict by values & putting in dict\n",
    "dmn_data.setdefault(\"overall\", \n",
    "                    dict((sorted(dmns_count.items(), key=lambda item: item[1],reverse=True))[0:top_n]))\n",
    "\n",
    "# posts\n",
    "# pulling those dmns and their counts where the provenance is posts\n",
    "posts_dmns = count_dmns(dmns_df[dmns_df[\"prov\"]==\"posts\"][\"dmn\"])\n",
    "\n",
    "# sorting dmn_dict by values & putting in dict\n",
    "dmn_data.setdefault(\"posts\",\n",
    "                   dict((sorted(comments_dmns.items(), key=lambda item: item[1],reverse=True))[0:top_n]))\n",
    "\n",
    "# comments\n",
    "# pulling those dmns and their counts where the provenance is comments\n",
    "comments_dmns = count_dmns(dmns_df[dmns_df[\"prov\"]==\"comment\"][\"dmn\"])\n",
    "\n",
    "# sorting dmn_dict by values & putting in dict\n",
    "dmn_data.setdefault(\"comments\",\n",
    "                   dict((sorted(comments_dmns.items(), key=lambda item: item[1],reverse=True))[0:top_n]))\n",
    "\n",
    "# empty bodies\n",
    "empty_post_dmns = count_dmns(dmns_df[dmns_df[\"bo\"].isna()][\"dmn\"])\n",
    "\n",
    "dmn_data.setdefault(\"empty\", \n",
    "                    dict((sorted(empty_post_dmns.items(), key=lambda item: item[1],reverse=True))[0:top_n]))"
   ]
  },
  {
   "cell_type": "markdown",
   "id": "faa044a1",
   "metadata": {},
   "source": [
    "#### Top Domains Overall"
   ]
  },
  {
   "cell_type": "code",
   "execution_count": 30,
   "id": "c1160d17",
   "metadata": {},
   "outputs": [
    {
     "name": "stdout",
     "output_type": "stream",
     "text": [
      "CPU times: total: 1.55 s\n",
      "Wall time: 1.55 s\n"
     ]
    },
    {
     "data": {
      "text/plain": [
       "{'image-cdn.parler.com': 353114,\n",
       " 'youtu.be': 161416,\n",
       " 'youtube.com': 85515,\n",
       " 'twitter.com': 84931,\n",
       " 'thegatewaypundit.com': 83150,\n",
       " 'breitbart.com': 57699,\n",
       " 'i.imgur.com': 54973,\n",
       " 'facebook.com': 31766,\n",
       " 'foxnews.com': 30889,\n",
       " 'townhall.com': 22175,\n",
       " 'tiny.iavian.net': 22121,\n",
       " 'counterglobalist.news': 20205,\n",
       " 'westernjournal.com': 18487,\n",
       " 'pjmedia.com': 16205,\n",
       " 'zerohedge.com': 14650,\n",
       " 'nypost.com': 14595,\n",
       " 'gab.com': 14577,\n",
       " 'www.youtube.com': 13692,\n",
       " 'bbc.co.uk': 13418,\n",
       " 'twitchy.com': 13277,\n",
       " 'dennismichaellynch.com': 13153,\n",
       " 'thefederalist.com': 11721,\n",
       " 'dailycaller.com': 11335,\n",
       " 'steve-finnell.blogspot.com': 11183,\n",
       " 'washingtonexaminer.com': 10829,\n",
       " 'www.foxnews.com': 10520,\n",
       " 'www.thegatewaypundit.com': 10471,\n",
       " 'infowars.com': 10025,\n",
       " 'theepochtimes.com': 9884,\n",
       " 'www.breitbart.com': 9511,\n",
       " 'redstate.com': 8978,\n",
       " 'americanthinker.com': 8844,\n",
       " 'dmlnewsapp.com': 8535,\n",
       " 'parler.com': 8369,\n",
       " 'newsmax.com': 8190,\n",
       " 'thehill.com': 7920,\n",
       " 'bizpacreview.com': 7446,\n",
       " 'theblaze.com': 7240,\n",
       " 'media.thedonald.win': 7082,\n",
       " 'reuters.com': 6689,\n",
       " 'naturalnews.com': 6573,\n",
       " 'dailymail.co.uk': 6406,\n",
       " 'newswars.com': 6246,\n",
       " 'bigleaguepolitics.com': 6096,\n",
       " 'rumble.com': 6083,\n",
       " 'dailywire.com': 6076,\n",
       " 'justthenews.com': 5639,\n",
       " 'bit.ly': 5555,\n",
       " 'tmq2.wordpress.com': 5126,\n",
       " 'trendingpolitics.com': 4799}"
      ]
     },
     "execution_count": 30,
     "metadata": {},
     "output_type": "execute_result"
    }
   ],
   "source": [
    "%%time\n",
    "# returns df where dmns are without nans -> only those rows with dmns\n",
    "dmns_df = df[~df[\"dmn\"].isna()]\n",
    "\n",
    "# counting the domains overall\n",
    "dmns_count = count_dmns(dmns_df[\"dmn\"])\n",
    "\n",
    "# sorting dict by values & pulling end of dict list\n",
    "dict((sorted(dmns_count.items(), key=lambda item: item[1],reverse=True))[0:50]) "
   ]
  },
  {
   "cell_type": "markdown",
   "id": "7beb3c3a",
   "metadata": {},
   "source": [
    "#### Top Domains in Posts"
   ]
  },
  {
   "cell_type": "code",
   "execution_count": 31,
   "id": "c6b56cfa",
   "metadata": {},
   "outputs": [
    {
     "name": "stdout",
     "output_type": "stream",
     "text": [
      "CPU times: total: 2.27 s\n",
      "Wall time: 2.27 s\n"
     ]
    },
    {
     "data": {
      "text/plain": [
       "{'image-cdn.parler.com': 325714,\n",
       " 'youtu.be': 160562,\n",
       " 'youtube.com': 84917,\n",
       " 'twitter.com': 84158,\n",
       " 'thegatewaypundit.com': 83129,\n",
       " 'breitbart.com': 57681,\n",
       " 'i.imgur.com': 53704,\n",
       " 'facebook.com': 31743,\n",
       " 'foxnews.com': 30878,\n",
       " 'townhall.com': 22170,\n",
       " 'tiny.iavian.net': 22121,\n",
       " 'counterglobalist.news': 20173,\n",
       " 'westernjournal.com': 18481,\n",
       " 'pjmedia.com': 16201,\n",
       " 'zerohedge.com': 14639,\n",
       " 'nypost.com': 14580,\n",
       " 'gab.com': 14565,\n",
       " 'www.youtube.com': 13641,\n",
       " 'bbc.co.uk': 13417,\n",
       " 'twitchy.com': 13275,\n",
       " 'dennismichaellynch.com': 13152,\n",
       " 'thefederalist.com': 11715,\n",
       " 'dailycaller.com': 11316,\n",
       " 'washingtonexaminer.com': 10821,\n",
       " 'steve-finnell.blogspot.com': 10728,\n",
       " 'www.foxnews.com': 10520,\n",
       " 'www.thegatewaypundit.com': 10471,\n",
       " 'infowars.com': 10021,\n",
       " 'theepochtimes.com': 9872,\n",
       " 'www.breitbart.com': 9509,\n",
       " 'redstate.com': 8977,\n",
       " 'americanthinker.com': 8841,\n",
       " 'dmlnewsapp.com': 8535,\n",
       " 'parler.com': 8311,\n",
       " 'newsmax.com': 8181,\n",
       " 'thehill.com': 7917,\n",
       " 'bizpacreview.com': 7444,\n",
       " 'theblaze.com': 7236,\n",
       " 'media.thedonald.win': 7079,\n",
       " 'reuters.com': 6683,\n",
       " 'naturalnews.com': 6568,\n",
       " 'dailymail.co.uk': 6386,\n",
       " 'newswars.com': 6246,\n",
       " 'bigleaguepolitics.com': 6089,\n",
       " 'rumble.com': 6082,\n",
       " 'dailywire.com': 6074,\n",
       " 'justthenews.com': 5637,\n",
       " 'bit.ly': 5551,\n",
       " 'tmq2.wordpress.com': 5088,\n",
       " 'trendingpolitics.com': 4799}"
      ]
     },
     "execution_count": 31,
     "metadata": {},
     "output_type": "execute_result"
    }
   ],
   "source": [
    "%%time\n",
    "# pulling those dmns and their counts where the provenance is comments\n",
    "comments_dmns = count_dmns(dmns_df[dmns_df[\"prov\"]==\"post\"][\"dmn\"])\n",
    "\n",
    "# sorting dmn_dict by values\n",
    "dict((sorted(comments_dmns.items(), key=lambda item: item[1],reverse=True))[0:50])"
   ]
  },
  {
   "cell_type": "markdown",
   "id": "6de4ab25",
   "metadata": {},
   "source": [
    "#### Top Domains in comments"
   ]
  },
  {
   "cell_type": "code",
   "execution_count": 32,
   "id": "354f9815",
   "metadata": {},
   "outputs": [
    {
     "name": "stdout",
     "output_type": "stream",
     "text": [
      "CPU times: total: 234 ms\n",
      "Wall time: 235 ms\n"
     ]
    },
    {
     "data": {
      "text/plain": [
       "{'image-cdn.parler.com': 27400,\n",
       " 'i.imgur.com': 1269,\n",
       " 'youtu.be': 854,\n",
       " 'twitter.com': 773,\n",
       " 'youtube.com': 598,\n",
       " 'media0.giphy.com': 470,\n",
       " 'media2.giphy.com': 465,\n",
       " 'steve-finnell.blogspot.com': 455,\n",
       " 'media1.giphy.com': 449,\n",
       " 'media3.giphy.com': 417,\n",
       " 'media.tenor.com': 308,\n",
       " 'truepundit.com': 245,\n",
       " 'media4.giphy.com': 94,\n",
       " 'pbs.twimg.com': 87,\n",
       " 'qanon.pub': 71,\n",
       " 'google.com': 64,\n",
       " 'share.par.pw': 63,\n",
       " 'biblegateway.com': 63,\n",
       " 'www.google.com': 59,\n",
       " 'parler.com': 58,\n",
       " 'www.youtube.com': 51,\n",
       " 'yourhillary.us': 48,\n",
       " 'frontpagemag.com': 46,\n",
       " 'tmq2.wordpress.com': 38,\n",
       " 'missingchildreneurope.eu': 37,\n",
       " 'c.tenor.com': 35,\n",
       " 'censoredbyjack.com': 32,\n",
       " 'counterglobalist.news': 32,\n",
       " 't.co': 32,\n",
       " 'en.wikipedia.org': 31,\n",
       " 'understandingthethreat.com': 28,\n",
       " 'www.frontpagemag.com': 27,\n",
       " 'thedailycoin.org': 27,\n",
       " 'insight2bp.homestead.com': 25,\n",
       " 'overcast.fm': 24,\n",
       " 'facebook.com': 23,\n",
       " 'thegatewaypundit.com': 21,\n",
       " 'dailymail.co.uk': 20,\n",
       " 'banned.video': 19,\n",
       " 'dailycaller.com': 19,\n",
       " 'breitbart.com': 18,\n",
       " 'www.justice.gov': 17,\n",
       " 'worldviewweekend.com': 16,\n",
       " 'www.understandingthethreat.com': 16,\n",
       " 'theguardian.com': 16,\n",
       " 'express.co.uk': 15,\n",
       " 'qmap.pub': 15,\n",
       " 'exhortingoneanother.createaforum.com': 15,\n",
       " 'nypost.com': 15,\n",
       " 'social.quodverum.com': 14}"
      ]
     },
     "execution_count": 32,
     "metadata": {},
     "output_type": "execute_result"
    }
   ],
   "source": [
    "%%time\n",
    "# returns those dmns which are from the comments\n",
    "posts_dmns = count_dmns(dmns_df[dmns_df[\"prov\"]==\"comment\"][\"dmn\"])\n",
    "\n",
    "dict((sorted(posts_dmns.items(), key=lambda item: item[1],reverse=True))[0:50])"
   ]
  },
  {
   "cell_type": "markdown",
   "id": "878b1a23",
   "metadata": {},
   "source": [
    "#### dmns from empty posts"
   ]
  },
  {
   "cell_type": "code",
   "execution_count": 33,
   "id": "0edc14f4",
   "metadata": {},
   "outputs": [
    {
     "name": "stdout",
     "output_type": "stream",
     "text": [
      "CPU times: total: 750 ms\n",
      "Wall time: 745 ms\n"
     ]
    },
    {
     "data": {
      "text/plain": [
       "{'image-cdn.parler.com': 271122,\n",
       " 'youtu.be': 105968,\n",
       " 'youtube.com': 44452,\n",
       " 'twitter.com': 40682,\n",
       " 'i.imgur.com': 35042,\n",
       " 'facebook.com': 25407,\n",
       " 'tiny.iavian.net': 15757,\n",
       " 'thegatewaypundit.com': 14716,\n",
       " 'bbc.co.uk': 13140,\n",
       " 'breitbart.com': 9450,\n",
       " 'foxnews.com': 9158,\n",
       " 'reuters.com': 5622,\n",
       " 'naturalnews.com': 5366,\n",
       " 'nypost.com': 4994,\n",
       " 'newswars.com': 4839,\n",
       " 'americanthinker.com': 4817,\n",
       " 'washingtonexaminer.com': 4540,\n",
       " 'zerohedge.com': 4502,\n",
       " 'parler.com': 4492,\n",
       " 'townhall.com': 4452,\n",
       " 'www.youtube.com': 4328,\n",
       " 'westernjournal.com': 3893,\n",
       " 'cnn.com': 3712,\n",
       " 'tmq2.wordpress.com': 3522,\n",
       " 'rumble.com': 3285,\n",
       " 'nytimes.com': 3110,\n",
       " 'bbc.com': 3067,\n",
       " 'instagram.com': 3019,\n",
       " 'twitchy.com': 2654,\n",
       " 'thehill.com': 2644,\n",
       " 'dailycaller.com': 2631,\n",
       " 'aljazeera.com': 2601,\n",
       " 'theepochtimes.com': 2486,\n",
       " 'thefederalist.com': 2478,\n",
       " 'michaelsavage.com': 2424,\n",
       " 'redstate.com': 2297,\n",
       " 'wnd.com': 2217,\n",
       " 'washingtonpost.com': 2187,\n",
       " 'jornaldacidadeonline.com.br': 2157,\n",
       " 'bitchute.com': 2019,\n",
       " 'www.breitbart.com': 1999,\n",
       " 'dailywire.com': 1971,\n",
       " 'bizpacreview.com': 1936,\n",
       " 'infowars.com': 1911,\n",
       " 'cnbc.com': 1885,\n",
       " 'gazetabrasil.com.br': 1796,\n",
       " 'dailymail.co.uk': 1681,\n",
       " 'www.foxnews.com': 1671,\n",
       " 'theblaze.com': 1626,\n",
       " 'www.newswars.com': 1607}"
      ]
     },
     "execution_count": 33,
     "metadata": {},
     "output_type": "execute_result"
    }
   ],
   "source": [
    "%%time\n",
    "empty_post_dmns = count_dmns(dmns_df[dmns_df[\"bo\"].isna()][\"dmn\"])\n",
    "\n",
    "dict((sorted(empty_post_dmns.items(), key=lambda item: item[1],reverse=True))[0:50])"
   ]
  },
  {
   "cell_type": "markdown",
   "id": "f2439700",
   "metadata": {},
   "source": [
    "How should I best compare these? I'm not sure"
   ]
  },
  {
   "cell_type": "markdown",
   "id": "1accb95e",
   "metadata": {},
   "source": [
    "How do I store these? I'm not sure"
   ]
  },
  {
   "cell_type": "code",
   "execution_count": null,
   "id": "9ff91770",
   "metadata": {},
   "outputs": [],
   "source": []
  },
  {
   "cell_type": "markdown",
   "id": "ab27e34e",
   "metadata": {},
   "source": [
    "#### Applying language classification"
   ]
  },
  {
   "cell_type": "code",
   "execution_count": 7,
   "id": "f718b8ad",
   "metadata": {
    "scrolled": true
   },
   "outputs": [
    {
     "name": "stderr",
     "output_type": "stream",
     "text": [
      "Warning : `load_model` does not return WordVectorModel or SupervisedModel any more, but a `FastText` object which is very similar.\n"
     ]
    }
   ],
   "source": [
    "PRETRAINED_MODEL_PATH = 'lid.176.bin'\n",
    "model = fasttext.load_model(PRETRAINED_MODEL_PATH)"
   ]
  },
  {
   "cell_type": "markdown",
   "id": "752f7778",
   "metadata": {},
   "source": [
    "Looking at the languages present first and foremost."
   ]
  },
  {
   "cell_type": "code",
   "execution_count": 8,
   "id": "e0196f69",
   "metadata": {
    "scrolled": false
   },
   "outputs": [
    {
     "name": "stdout",
     "output_type": "stream",
     "text": [
      "CPU times: total: 34 s\n",
      "Wall time: 34 s\n"
     ]
    }
   ],
   "source": [
    "%%time\n",
    "# applying the function to the rows which have a body\n",
    "df[\"bo_lang\"] = df[~df[\"bo\"].isna()][\"bo\"].apply(lang_class)"
   ]
  },
  {
   "cell_type": "code",
   "execution_count": 9,
   "id": "9310685f",
   "metadata": {},
   "outputs": [
    {
     "name": "stdout",
     "output_type": "stream",
     "text": [
      "CPU times: total: 3 s\n",
      "Wall time: 3.01 s\n"
     ]
    }
   ],
   "source": [
    "%%time\n",
    "# splitting the tuples found in the lang_class column\n",
    "# using the index of the filtered df as the index\n",
    "# using the df where the bo_lang isn't na\n",
    "df[[\"bo_lang\",\"conf\"]] = pd.DataFrame(df[df['bo_lang'].notna()][\"bo_lang\"].tolist(), index=df[df[\"bo\"].notna()].index)"
   ]
  },
  {
   "cell_type": "code",
   "execution_count": 10,
   "id": "06c04896",
   "metadata": {},
   "outputs": [
    {
     "name": "stdout",
     "output_type": "stream",
     "text": [
      "CPU times: total: 5.88 s\n",
      "Wall time: 5.89 s\n"
     ]
    }
   ],
   "source": [
    "%%time\n",
    "# applying func to pull lang code to the rows where there is a lang code\n",
    "df[\"bo_lang\"] = df[df[\"bo_lang\"].notna()][\"bo_lang\"].apply(lang_from_code)\n"
   ]
  },
  {
   "cell_type": "code",
   "execution_count": 11,
   "id": "1ec8c34e",
   "metadata": {},
   "outputs": [
    {
     "data": {
      "text/html": [
       "<div>\n",
       "<style scoped>\n",
       "    .dataframe tbody tr th:only-of-type {\n",
       "        vertical-align: middle;\n",
       "    }\n",
       "\n",
       "    .dataframe tbody tr th {\n",
       "        vertical-align: top;\n",
       "    }\n",
       "\n",
       "    .dataframe thead th {\n",
       "        text-align: right;\n",
       "    }\n",
       "</style>\n",
       "<table border=\"1\" class=\"dataframe\">\n",
       "  <thead>\n",
       "    <tr style=\"text-align: right;\">\n",
       "      <th></th>\n",
       "      <th>t</th>\n",
       "      <th>id</th>\n",
       "      <th>cd</th>\n",
       "      <th>c</th>\n",
       "      <th>u</th>\n",
       "      <th>un</th>\n",
       "      <th>ls</th>\n",
       "      <th>cn</th>\n",
       "      <th>uv</th>\n",
       "      <th>url</th>\n",
       "      <th>...</th>\n",
       "      <th>cv</th>\n",
       "      <th>rt</th>\n",
       "      <th>po</th>\n",
       "      <th>pa</th>\n",
       "      <th>z</th>\n",
       "      <th>cz</th>\n",
       "      <th>sc</th>\n",
       "      <th>dv</th>\n",
       "      <th>bo_lang</th>\n",
       "      <th>conf</th>\n",
       "    </tr>\n",
       "  </thead>\n",
       "  <tbody>\n",
       "    <tr>\n",
       "      <th>0</th>\n",
       "      <td>p</td>\n",
       "      <td>50f27e734766438698d4d5c2d689a5f1</td>\n",
       "      <td>20201109</td>\n",
       "      <td>1604927870000</td>\n",
       "      <td>87be30dacdc74cd2936bcbe4ece6010d</td>\n",
       "      <td>Bullscricker</td>\n",
       "      <td>1.610175e+12</td>\n",
       "      <td>1.0</td>\n",
       "      <td>61.0</td>\n",
       "      <td>[{'id': 'NfKA3', 'u': 'https://image-cdn.parle...</td>\n",
       "      <td>...</td>\n",
       "      <td>NaN</td>\n",
       "      <td>NaN</td>\n",
       "      <td>NaN</td>\n",
       "      <td>NaN</td>\n",
       "      <td>NaN</td>\n",
       "      <td>NaN</td>\n",
       "      <td>NaN</td>\n",
       "      <td>NaN</td>\n",
       "      <td>NaN</td>\n",
       "      <td>NaN</td>\n",
       "    </tr>\n",
       "    <tr>\n",
       "      <th>1</th>\n",
       "      <td>p</td>\n",
       "      <td>3619348b91524430882f2b887838a3e4</td>\n",
       "      <td>20201018</td>\n",
       "      <td>1602989910000</td>\n",
       "      <td>8b67993183a14587a001010058d089d2</td>\n",
       "      <td>chucknellis</td>\n",
       "      <td>1.610249e+12</td>\n",
       "      <td>-1.0</td>\n",
       "      <td>113.0</td>\n",
       "      <td>[{'id': 'rqVjB', 'u': 'https://noqreport.com/2...</td>\n",
       "      <td>...</td>\n",
       "      <td>NaN</td>\n",
       "      <td>NaN</td>\n",
       "      <td>NaN</td>\n",
       "      <td>NaN</td>\n",
       "      <td>NaN</td>\n",
       "      <td>NaN</td>\n",
       "      <td>NaN</td>\n",
       "      <td>NaN</td>\n",
       "      <td>English</td>\n",
       "      <td>[0.8107684254646301]</td>\n",
       "    </tr>\n",
       "    <tr>\n",
       "      <th>2</th>\n",
       "      <td>p</td>\n",
       "      <td>1365051bfe6243599e6af1055b71c4a2</td>\n",
       "      <td>20201202</td>\n",
       "      <td>1606897009000</td>\n",
       "      <td>eeeb8dd25b7142b1bc69cbdbe1d8bb62</td>\n",
       "      <td>ThomasFox</td>\n",
       "      <td>1.607430e+12</td>\n",
       "      <td>17.0</td>\n",
       "      <td>426.0</td>\n",
       "      <td>[{'id': 'ZHMCp', 'u': 'https://rumble.com/vbiz...</td>\n",
       "      <td>...</td>\n",
       "      <td>NaN</td>\n",
       "      <td>NaN</td>\n",
       "      <td>NaN</td>\n",
       "      <td>NaN</td>\n",
       "      <td>NaN</td>\n",
       "      <td>NaN</td>\n",
       "      <td>NaN</td>\n",
       "      <td>NaN</td>\n",
       "      <td>English</td>\n",
       "      <td>[0.6809220314025879]</td>\n",
       "    </tr>\n",
       "    <tr>\n",
       "      <th>3</th>\n",
       "      <td>p</td>\n",
       "      <td>5f5e02a226454cbb9f56741a3aa6adce</td>\n",
       "      <td>20200824</td>\n",
       "      <td>1598283523000</td>\n",
       "      <td>e04afa3752f94366813196fb88022440</td>\n",
       "      <td>Kreermary</td>\n",
       "      <td>1.606561e+12</td>\n",
       "      <td>1.0</td>\n",
       "      <td>13.0</td>\n",
       "      <td>[{'id': 'Zu4DC', 'u': 'https://image-cdn.parle...</td>\n",
       "      <td>...</td>\n",
       "      <td>NaN</td>\n",
       "      <td>NaN</td>\n",
       "      <td>NaN</td>\n",
       "      <td>NaN</td>\n",
       "      <td>NaN</td>\n",
       "      <td>NaN</td>\n",
       "      <td>NaN</td>\n",
       "      <td>NaN</td>\n",
       "      <td>NaN</td>\n",
       "      <td>NaN</td>\n",
       "    </tr>\n",
       "    <tr>\n",
       "      <th>4</th>\n",
       "      <td>p</td>\n",
       "      <td>3e689379be5b4e1fa333bbf7f5e1fad2</td>\n",
       "      <td>20201219</td>\n",
       "      <td>1608385852000</td>\n",
       "      <td>46563f08c3a34bebbf4960877d77230f</td>\n",
       "      <td>Starblazer692003</td>\n",
       "      <td>1.610230e+12</td>\n",
       "      <td>-1.0</td>\n",
       "      <td>181.0</td>\n",
       "      <td>[{'id': 'KbQpt', 'u': 'https://image-cdn.parle...</td>\n",
       "      <td>...</td>\n",
       "      <td>NaN</td>\n",
       "      <td>NaN</td>\n",
       "      <td>NaN</td>\n",
       "      <td>NaN</td>\n",
       "      <td>NaN</td>\n",
       "      <td>NaN</td>\n",
       "      <td>NaN</td>\n",
       "      <td>NaN</td>\n",
       "      <td>NaN</td>\n",
       "      <td>NaN</td>\n",
       "    </tr>\n",
       "    <tr>\n",
       "      <th>...</th>\n",
       "      <td>...</td>\n",
       "      <td>...</td>\n",
       "      <td>...</td>\n",
       "      <td>...</td>\n",
       "      <td>...</td>\n",
       "      <td>...</td>\n",
       "      <td>...</td>\n",
       "      <td>...</td>\n",
       "      <td>...</td>\n",
       "      <td>...</td>\n",
       "      <td>...</td>\n",
       "      <td>...</td>\n",
       "      <td>...</td>\n",
       "      <td>...</td>\n",
       "      <td>...</td>\n",
       "      <td>...</td>\n",
       "      <td>...</td>\n",
       "      <td>...</td>\n",
       "      <td>...</td>\n",
       "      <td>...</td>\n",
       "      <td>...</td>\n",
       "    </tr>\n",
       "    <tr>\n",
       "      <th>2254421</th>\n",
       "      <td>c</td>\n",
       "      <td>1ff3e15913c34456828bc70a7966bda1</td>\n",
       "      <td>20201009</td>\n",
       "      <td>1602255581000</td>\n",
       "      <td>e11890c2ffc348df9cb703651a3cc9c0</td>\n",
       "      <td>LibertyElaine</td>\n",
       "      <td>1.608365e+12</td>\n",
       "      <td>1.0</td>\n",
       "      <td>NaN</td>\n",
       "      <td>[{'id': 'QnA7M', 'u': 'https://image-cdn.parle...</td>\n",
       "      <td>...</td>\n",
       "      <td>NaN</td>\n",
       "      <td>NaN</td>\n",
       "      <td>7f18556bd531453c952295a4a90fe3e5</td>\n",
       "      <td>NaN</td>\n",
       "      <td>2.0</td>\n",
       "      <td>NaN</td>\n",
       "      <td>0.0</td>\n",
       "      <td>NaN</td>\n",
       "      <td>NaN</td>\n",
       "      <td>NaN</td>\n",
       "    </tr>\n",
       "    <tr>\n",
       "      <th>2254422</th>\n",
       "      <td>c</td>\n",
       "      <td>0a94034622254a0f96f943a2f7b98621</td>\n",
       "      <td>20200829</td>\n",
       "      <td>1598718069000</td>\n",
       "      <td>f8b37b14d52f493eab60c60486d5e6c6</td>\n",
       "      <td>Aj118</td>\n",
       "      <td>1.607136e+12</td>\n",
       "      <td>NaN</td>\n",
       "      <td>1.0</td>\n",
       "      <td>[{'id': 'gm0vg', 'u': 'https://image-cdn.parle...</td>\n",
       "      <td>...</td>\n",
       "      <td>NaN</td>\n",
       "      <td>NaN</td>\n",
       "      <td>6f961bfcc04c44da938f62f0032f6eb4</td>\n",
       "      <td>NaN</td>\n",
       "      <td>1.0</td>\n",
       "      <td>NaN</td>\n",
       "      <td>1.0</td>\n",
       "      <td>NaN</td>\n",
       "      <td>NaN</td>\n",
       "      <td>NaN</td>\n",
       "    </tr>\n",
       "    <tr>\n",
       "      <th>2254423</th>\n",
       "      <td>c</td>\n",
       "      <td>1dc1abde35234e32a872bcf76bd6ab45</td>\n",
       "      <td>20200820</td>\n",
       "      <td>1597891420000</td>\n",
       "      <td>efaac1ece6a893e0fab48f558e3a5c57</td>\n",
       "      <td>BethocAeilflaed</td>\n",
       "      <td>1.607239e+12</td>\n",
       "      <td>2.0</td>\n",
       "      <td>3.0</td>\n",
       "      <td>[{'id': 'Ye37z', 'u': 'https://image-cdn.parle...</td>\n",
       "      <td>...</td>\n",
       "      <td>138398b39eef4eedafc3ee14743af8ff</td>\n",
       "      <td>NaN</td>\n",
       "      <td>2c8487380e7146c8becec36618d7b8a7</td>\n",
       "      <td>241d0ceb76454cdda278f441e450c84c</td>\n",
       "      <td>3.0</td>\n",
       "      <td>1.0</td>\n",
       "      <td>3.0</td>\n",
       "      <td>NaN</td>\n",
       "      <td>English</td>\n",
       "      <td>[0.6988052725791931]</td>\n",
       "    </tr>\n",
       "    <tr>\n",
       "      <th>2254424</th>\n",
       "      <td>c</td>\n",
       "      <td>4b80d4aa6f9d4775a8ba82f940272507</td>\n",
       "      <td>20200817</td>\n",
       "      <td>1597632198000</td>\n",
       "      <td>f8b37b14d52f493eab60c60486d5e6c6</td>\n",
       "      <td>Aj118</td>\n",
       "      <td>1.607136e+12</td>\n",
       "      <td>NaN</td>\n",
       "      <td>NaN</td>\n",
       "      <td>[{'id': 'Z6BDS', 'u': 'https://image-cdn.parle...</td>\n",
       "      <td>...</td>\n",
       "      <td>NaN</td>\n",
       "      <td>NaN</td>\n",
       "      <td>cdaceedc947d46159376fa0f495d51ae</td>\n",
       "      <td>NaN</td>\n",
       "      <td>2.0</td>\n",
       "      <td>NaN</td>\n",
       "      <td>0.0</td>\n",
       "      <td>NaN</td>\n",
       "      <td>NaN</td>\n",
       "      <td>NaN</td>\n",
       "    </tr>\n",
       "    <tr>\n",
       "      <th>2254425</th>\n",
       "      <td>c</td>\n",
       "      <td>476d74eb1d2b4206b72cb02574c105a7</td>\n",
       "      <td>20200928</td>\n",
       "      <td>1601317643000</td>\n",
       "      <td>9ba302eb09584878ae72c873d550eb11</td>\n",
       "      <td>doutingthomas1</td>\n",
       "      <td>1.610209e+12</td>\n",
       "      <td>NaN</td>\n",
       "      <td>2.0</td>\n",
       "      <td>[{'id': 'vKmg2', 'u': 'https://image-cdn.parle...</td>\n",
       "      <td>...</td>\n",
       "      <td>NaN</td>\n",
       "      <td>NaN</td>\n",
       "      <td>591f4abf6bde4ab586ab6fe0a71055f0</td>\n",
       "      <td>NaN</td>\n",
       "      <td>2.0</td>\n",
       "      <td>NaN</td>\n",
       "      <td>2.0</td>\n",
       "      <td>NaN</td>\n",
       "      <td>English</td>\n",
       "      <td>[0.9862496852874756]</td>\n",
       "    </tr>\n",
       "  </tbody>\n",
       "</table>\n",
       "<p>2254426 rows × 28 columns</p>\n",
       "</div>"
      ],
      "text/plain": [
       "         t                                id        cd              c  \\\n",
       "0        p  50f27e734766438698d4d5c2d689a5f1  20201109  1604927870000   \n",
       "1        p  3619348b91524430882f2b887838a3e4  20201018  1602989910000   \n",
       "2        p  1365051bfe6243599e6af1055b71c4a2  20201202  1606897009000   \n",
       "3        p  5f5e02a226454cbb9f56741a3aa6adce  20200824  1598283523000   \n",
       "4        p  3e689379be5b4e1fa333bbf7f5e1fad2  20201219  1608385852000   \n",
       "...     ..                               ...       ...            ...   \n",
       "2254421  c  1ff3e15913c34456828bc70a7966bda1  20201009  1602255581000   \n",
       "2254422  c  0a94034622254a0f96f943a2f7b98621  20200829  1598718069000   \n",
       "2254423  c  1dc1abde35234e32a872bcf76bd6ab45  20200820  1597891420000   \n",
       "2254424  c  4b80d4aa6f9d4775a8ba82f940272507  20200817  1597632198000   \n",
       "2254425  c  476d74eb1d2b4206b72cb02574c105a7  20200928  1601317643000   \n",
       "\n",
       "                                        u                un            ls  \\\n",
       "0        87be30dacdc74cd2936bcbe4ece6010d      Bullscricker  1.610175e+12   \n",
       "1        8b67993183a14587a001010058d089d2       chucknellis  1.610249e+12   \n",
       "2        eeeb8dd25b7142b1bc69cbdbe1d8bb62         ThomasFox  1.607430e+12   \n",
       "3        e04afa3752f94366813196fb88022440         Kreermary  1.606561e+12   \n",
       "4        46563f08c3a34bebbf4960877d77230f  Starblazer692003  1.610230e+12   \n",
       "...                                   ...               ...           ...   \n",
       "2254421  e11890c2ffc348df9cb703651a3cc9c0     LibertyElaine  1.608365e+12   \n",
       "2254422  f8b37b14d52f493eab60c60486d5e6c6             Aj118  1.607136e+12   \n",
       "2254423  efaac1ece6a893e0fab48f558e3a5c57   BethocAeilflaed  1.607239e+12   \n",
       "2254424  f8b37b14d52f493eab60c60486d5e6c6             Aj118  1.607136e+12   \n",
       "2254425  9ba302eb09584878ae72c873d550eb11    doutingthomas1  1.610209e+12   \n",
       "\n",
       "           cn     uv                                                url  ...  \\\n",
       "0         1.0   61.0  [{'id': 'NfKA3', 'u': 'https://image-cdn.parle...  ...   \n",
       "1        -1.0  113.0  [{'id': 'rqVjB', 'u': 'https://noqreport.com/2...  ...   \n",
       "2        17.0  426.0  [{'id': 'ZHMCp', 'u': 'https://rumble.com/vbiz...  ...   \n",
       "3         1.0   13.0  [{'id': 'Zu4DC', 'u': 'https://image-cdn.parle...  ...   \n",
       "4        -1.0  181.0  [{'id': 'KbQpt', 'u': 'https://image-cdn.parle...  ...   \n",
       "...       ...    ...                                                ...  ...   \n",
       "2254421   1.0    NaN  [{'id': 'QnA7M', 'u': 'https://image-cdn.parle...  ...   \n",
       "2254422   NaN    1.0  [{'id': 'gm0vg', 'u': 'https://image-cdn.parle...  ...   \n",
       "2254423   2.0    3.0  [{'id': 'Ye37z', 'u': 'https://image-cdn.parle...  ...   \n",
       "2254424   NaN    NaN  [{'id': 'Z6BDS', 'u': 'https://image-cdn.parle...  ...   \n",
       "2254425   NaN    2.0  [{'id': 'vKmg2', 'u': 'https://image-cdn.parle...  ...   \n",
       "\n",
       "                                       cv   rt  \\\n",
       "0                                     NaN  NaN   \n",
       "1                                     NaN  NaN   \n",
       "2                                     NaN  NaN   \n",
       "3                                     NaN  NaN   \n",
       "4                                     NaN  NaN   \n",
       "...                                   ...  ...   \n",
       "2254421                               NaN  NaN   \n",
       "2254422                               NaN  NaN   \n",
       "2254423  138398b39eef4eedafc3ee14743af8ff  NaN   \n",
       "2254424                               NaN  NaN   \n",
       "2254425                               NaN  NaN   \n",
       "\n",
       "                                       po                                pa  \\\n",
       "0                                     NaN                               NaN   \n",
       "1                                     NaN                               NaN   \n",
       "2                                     NaN                               NaN   \n",
       "3                                     NaN                               NaN   \n",
       "4                                     NaN                               NaN   \n",
       "...                                   ...                               ...   \n",
       "2254421  7f18556bd531453c952295a4a90fe3e5                               NaN   \n",
       "2254422  6f961bfcc04c44da938f62f0032f6eb4                               NaN   \n",
       "2254423  2c8487380e7146c8becec36618d7b8a7  241d0ceb76454cdda278f441e450c84c   \n",
       "2254424  cdaceedc947d46159376fa0f495d51ae                               NaN   \n",
       "2254425  591f4abf6bde4ab586ab6fe0a71055f0                               NaN   \n",
       "\n",
       "           z   cz   sc  dv  bo_lang                  conf  \n",
       "0        NaN  NaN  NaN NaN      NaN                   NaN  \n",
       "1        NaN  NaN  NaN NaN  English  [0.8107684254646301]  \n",
       "2        NaN  NaN  NaN NaN  English  [0.6809220314025879]  \n",
       "3        NaN  NaN  NaN NaN      NaN                   NaN  \n",
       "4        NaN  NaN  NaN NaN      NaN                   NaN  \n",
       "...      ...  ...  ...  ..      ...                   ...  \n",
       "2254421  2.0  NaN  0.0 NaN      NaN                   NaN  \n",
       "2254422  1.0  NaN  1.0 NaN      NaN                   NaN  \n",
       "2254423  3.0  1.0  3.0 NaN  English  [0.6988052725791931]  \n",
       "2254424  2.0  NaN  0.0 NaN      NaN                   NaN  \n",
       "2254425  2.0  NaN  2.0 NaN  English  [0.9862496852874756]  \n",
       "\n",
       "[2254426 rows x 28 columns]"
      ]
     },
     "execution_count": 11,
     "metadata": {},
     "output_type": "execute_result"
    }
   ],
   "source": [
    "df"
   ]
  },
  {
   "cell_type": "markdown",
   "id": "1c47bf5d",
   "metadata": {},
   "source": [
    "#### Comparing languages"
   ]
  },
  {
   "cell_type": "code",
   "execution_count": 17,
   "id": "c5b240c1",
   "metadata": {},
   "outputs": [
    {
     "data": {
      "text/plain": [
       "English       1266682\n",
       "Portuguese      25279\n",
       "Japanese        21815\n",
       "Spanish         12620\n",
       "German          10262\n",
       "Chinese          8512\n",
       "French           6606\n",
       "Catalan          4367\n",
       "Russian          4361\n",
       "Italian          3756\n",
       "Name: bo_lang, dtype: int64"
      ]
     },
     "execution_count": 17,
     "metadata": {},
     "output_type": "execute_result"
    }
   ],
   "source": [
    "# overall Language counts for top ten languages\n",
    "df[df[\"bo_lang\"].notna()][\"bo_lang\"].value_counts().head(10)"
   ]
  },
  {
   "cell_type": "code",
   "execution_count": 22,
   "id": "c266186a",
   "metadata": {},
   "outputs": [
    {
     "name": "stdout",
     "output_type": "stream",
     "text": [
      "Overall\n",
      "              count       pct\n",
      "English     1266682  0.916547\n",
      "Portuguese    25279  0.018291\n",
      "Japanese      21815  0.015785\n",
      "Spanish       12620  0.009132\n",
      "German        10262  0.007425\n",
      "Chinese        8512  0.006159\n",
      "French         6606  0.004780\n",
      "Catalan        4367  0.003160\n",
      "Russian        4361  0.003156\n",
      "Italian        3756  0.002718\n"
     ]
    }
   ],
   "source": [
    "# overall Language counts and percents for top ten languages\n",
    "# excludes nans though -> those w/o body...\n",
    "print(\"Overall\")\n",
    "print(pd.concat([df[df[\"bo_lang\"].notna()][\"bo_lang\"].value_counts().head(10), \n",
    "          df[df[\"bo_lang\"].notna()][\"bo_lang\"].value_counts(normalize=True).head(10)], axis=1, keys=[\"count\", \"pct\"]))"
   ]
  },
  {
   "cell_type": "code",
   "execution_count": null,
   "id": "2fb7acdf",
   "metadata": {},
   "outputs": [],
   "source": []
  },
  {
   "cell_type": "code",
   "execution_count": 24,
   "id": "75a51da7",
   "metadata": {},
   "outputs": [
    {
     "data": {
      "text/plain": [
       "English       1061052\n",
       "Portuguese      24135\n",
       "Japanese        13695\n",
       "Spanish          7227\n",
       "German           5597\n",
       "Chinese          5029\n",
       "French           3852\n",
       "Catalan          3815\n",
       "Russian          2231\n",
       "Italian          1557\n",
       "Name: bo_lang, dtype: int64"
      ]
     },
     "execution_count": 24,
     "metadata": {},
     "output_type": "execute_result"
    }
   ],
   "source": [
    "# top ten language counts for posts\n",
    "df[(df[\"bo_lang\"].notna()) & (df[\"prov\"] == \"post\")][\"bo_lang\"].value_counts().head(10)"
   ]
  },
  {
   "cell_type": "code",
   "execution_count": 27,
   "id": "c6d772d8",
   "metadata": {},
   "outputs": [
    {
     "name": "stdout",
     "output_type": "stream",
     "text": [
      "              count       pct\n",
      "English     1061052  0.933251\n",
      "Portuguese    24135  0.021228\n",
      "Japanese      13695  0.012045\n",
      "Spanish        7227  0.006357\n",
      "German         5597  0.004923\n",
      "Chinese        5029  0.004423\n",
      "French         3852  0.003388\n",
      "Catalan        3815  0.003355\n",
      "Russian        2231  0.001962\n",
      "Italian        1557  0.001369\n"
     ]
    }
   ],
   "source": [
    "# top ten language counts and percents for posts\n",
    "print(pd.concat([df[(df[\"bo_lang\"].notna()) & (df[\"prov\"] == \"post\")][\"bo_lang\"].value_counts().head(10), \n",
    "         df[(df[\"bo_lang\"].notna()) & (df[\"prov\"] == \"post\")][\"bo_lang\"].value_counts(normalize=True).head(10)],\n",
    "            axis=1, keys=[\"count\", \"pct\"]))"
   ]
  },
  {
   "cell_type": "code",
   "execution_count": 39,
   "id": "4880b0d0",
   "metadata": {},
   "outputs": [
    {
     "data": {
      "text/plain": [
       "English       205630\n",
       "Japanese        8120\n",
       "Spanish         5393\n",
       "German          4665\n",
       "Chinese         3483\n",
       "French          2754\n",
       "Italian         2199\n",
       "Russian         2130\n",
       "Portuguese      1144\n",
       "Esperanto        938\n",
       "Name: bo_lang, dtype: int64"
      ]
     },
     "execution_count": 39,
     "metadata": {},
     "output_type": "execute_result"
    }
   ],
   "source": [
    "# top ten language counts for comments\n",
    "df[(df[\"bo_lang\"].notna()) & (df[\"prov\"] == \"comment\")][\"bo_lang\"].value_counts().head(10)"
   ]
  },
  {
   "cell_type": "code",
   "execution_count": 28,
   "id": "e2ed4992",
   "metadata": {},
   "outputs": [
    {
     "name": "stdout",
     "output_type": "stream",
     "text": [
      "             count       pct\n",
      "English     205630  0.839056\n",
      "Japanese      8120  0.033133\n",
      "Spanish       5393  0.022006\n",
      "German        4665  0.019035\n",
      "Chinese       3483  0.014212\n",
      "French        2754  0.011237\n",
      "Italian       2199  0.008973\n",
      "Russian       2130  0.008691\n",
      "Portuguese    1144  0.004668\n",
      "Esperanto      938  0.003827\n"
     ]
    }
   ],
   "source": [
    "print(pd.concat([df[(df[\"bo_lang\"].notna()) & (df[\"prov\"] == \"comment\")][\"bo_lang\"].value_counts().head(10), \n",
    "         df[(df[\"bo_lang\"].notna()) & (df[\"prov\"] == \"comment\")][\"bo_lang\"].value_counts(normalize=True).head(10)],\n",
    "            axis=1, keys=[\"count\", \"pct\"]))"
   ]
  },
  {
   "cell_type": "markdown",
   "id": "83bb622d",
   "metadata": {},
   "source": [
    "#### Trying Sentiment Analysis"
   ]
  },
  {
   "cell_type": "code",
   "execution_count": null,
   "id": "de8a2358",
   "metadata": {},
   "outputs": [],
   "source": []
  }
 ],
 "metadata": {
  "kernelspec": {
   "display_name": "Python 3 (ipykernel)",
   "language": "python",
   "name": "python3"
  },
  "language_info": {
   "codemirror_mode": {
    "name": "ipython",
    "version": 3
   },
   "file_extension": ".py",
   "mimetype": "text/x-python",
   "name": "python",
   "nbconvert_exporter": "python",
   "pygments_lexer": "ipython3",
   "version": "3.8.8"
  }
 },
 "nbformat": 4,
 "nbformat_minor": 5
}

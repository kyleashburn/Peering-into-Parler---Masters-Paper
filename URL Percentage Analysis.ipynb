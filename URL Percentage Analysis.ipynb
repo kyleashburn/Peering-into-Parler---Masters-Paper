{
 "cells": [
  {
   "cell_type": "code",
   "execution_count": 108,
   "id": "b1b7c8d5",
   "metadata": {},
   "outputs": [],
   "source": [
    "import pandas as pd"
   ]
  },
  {
   "cell_type": "markdown",
   "id": "af7af0b1",
   "metadata": {},
   "source": [
    "#### Minimally Active Data"
   ]
  },
  {
   "cell_type": "code",
   "execution_count": 3,
   "id": "e29e9174",
   "metadata": {
    "scrolled": true
   },
   "outputs": [
    {
     "name": "stdout",
     "output_type": "stream",
     "text": [
      "CPU times: total: 3min 37s\n",
      "Wall time: 3min 43s\n"
     ]
    }
   ],
   "source": [
    "%%time\n",
    "min_act = pd.read_json(\"min_act_lang_filtered_pre_proc.ndjson\",lines=True)"
   ]
  },
  {
   "cell_type": "code",
   "execution_count": 93,
   "id": "9d20baf3",
   "metadata": {},
   "outputs": [
    {
     "data": {
      "text/plain": [
       "0.09929654262139298"
      ]
     },
     "execution_count": 93,
     "metadata": {},
     "output_type": "execute_result"
    }
   ],
   "source": [
    "# gives us an idea of the % of the data overall we're working with here\n",
    "# those the count of rows where there is a domain/ the count of all rows\n",
    "len(min_act[min_act[\"dmn\"].notna()])/len(min_act)"
   ]
  },
  {
   "cell_type": "code",
   "execution_count": 109,
   "id": "47489aa1",
   "metadata": {},
   "outputs": [
    {
     "data": {
      "text/plain": [
       "0.2981386401256872"
      ]
     },
     "execution_count": 109,
     "metadata": {},
     "output_type": "execute_result"
    }
   ],
   "source": [
    "# gives ua an idea of the % of posts which contain a url\n",
    "# the count of rows where there is a domain and where it is a post/ the count of all rows\n",
    "len(min_act[(min_act[\"dmn\"].notna()) & (min_act[\"t\"]==\"p\")])/len(min_act[min_act[\"t\"]==\"p\"])"
   ]
  },
  {
   "cell_type": "code",
   "execution_count": 114,
   "id": "bd77d25c",
   "metadata": {},
   "outputs": [
    {
     "data": {
      "text/plain": [
       "0.03394419230099863"
      ]
     },
     "execution_count": 114,
     "metadata": {},
     "output_type": "execute_result"
    }
   ],
   "source": [
    "# gives us an idea of the % of comments which contain a url\n",
    "len(min_act[(min_act[\"dmn\"].notna()) & (min_act[\"t\"]==\"c\")])/len(min_act[min_act[\"t\"]==\"c\"])"
   ]
  },
  {
   "cell_type": "code",
   "execution_count": 102,
   "id": "a87d50c3",
   "metadata": {},
   "outputs": [
    {
     "name": "stdout",
     "output_type": "stream",
     "text": [
      "CPU times: total: 2.12 s\n",
      "Wall time: 2.13 s\n"
     ]
    },
    {
     "data": {
      "text/plain": [
       "t\n",
       "c    0.257286\n",
       "p    0.742714\n",
       "Name: id, dtype: float64"
      ]
     },
     "execution_count": 102,
     "metadata": {},
     "output_type": "execute_result"
    }
   ],
   "source": [
    "%%time\n",
    "# returns the count where there is a url and the count grouped by type\n",
    "# the number of rows for each where there is a domain/the number of rows where there is a domain\n",
    "(min_act[min_act[\"dmn\"].notna()].groupby(\"t\")[\"id\"].count()/len(min_act[min_act[\"dmn\"].notna()]))"
   ]
  },
  {
   "cell_type": "markdown",
   "id": "ffbab8e4",
   "metadata": {},
   "source": [
    "#### Moderately Active Data"
   ]
  },
  {
   "cell_type": "code",
   "execution_count": null,
   "id": "1f287093",
   "metadata": {},
   "outputs": [],
   "source": [
    "%%time\n",
    "mod_act = pd.read_json(\"mod_act_lang_filtered_pre_proc.ndjson\",lines=True)"
   ]
  },
  {
   "cell_type": "code",
   "execution_count": 115,
   "id": "eeddbba0",
   "metadata": {},
   "outputs": [
    {
     "data": {
      "text/plain": [
       "0.3630877660106333"
      ]
     },
     "execution_count": 115,
     "metadata": {},
     "output_type": "execute_result"
    }
   ],
   "source": [
    "# gives us an idea of the % of the data overall we're working with here\n",
    "len(mod_act[mod_act[\"dmn\"].notna()])/len(mod_act)"
   ]
  },
  {
   "cell_type": "code",
   "execution_count": 122,
   "id": "6d4644ac",
   "metadata": {},
   "outputs": [
    {
     "data": {
      "text/plain": [
       "0.6867891236855223"
      ]
     },
     "execution_count": 122,
     "metadata": {},
     "output_type": "execute_result"
    }
   ],
   "source": [
    "# gives ua an idea of the % of posts which contain a url\n",
    "len(mod_act[(mod_act[\"dmn\"].notna()) & (mod_act[\"t\"]==\"p\")])/len(mod_act[mod_act[\"t\"]==\"p\"])"
   ]
  },
  {
   "cell_type": "code",
   "execution_count": 123,
   "id": "76f95619",
   "metadata": {},
   "outputs": [
    {
     "data": {
      "text/plain": [
       "0.2637301635381265"
      ]
     },
     "execution_count": 123,
     "metadata": {},
     "output_type": "execute_result"
    }
   ],
   "source": [
    "# gives us an idea of the % of comments which contain a url\n",
    "len(mod_act[(mod_act[\"dmn\"].notna()) & (mod_act[\"t\"]==\"c\")])/len(mod_act[mod_act[\"t\"]==\"c\"])"
   ]
  },
  {
   "cell_type": "code",
   "execution_count": 103,
   "id": "70397c66",
   "metadata": {},
   "outputs": [
    {
     "name": "stdout",
     "output_type": "stream",
     "text": [
      "CPU times: total: 4.27 s\n",
      "Wall time: 4.27 s\n"
     ]
    },
    {
     "data": {
      "text/plain": [
       "t\n",
       "c    0.555766\n",
       "p    0.444234\n",
       "Name: id, dtype: float64"
      ]
     },
     "execution_count": 103,
     "metadata": {},
     "output_type": "execute_result"
    }
   ],
   "source": [
    "%%time\n",
    "# returns the count where there is a url and the count grouped by type\n",
    "# the number of rows for each where there is a domain/the number of rows where this is a domain\n",
    "(mod_act[mod_act[\"dmn\"].notna()].groupby(\"t\")[\"id\"].count()/len(mod_act[mod_act[\"dmn\"].notna()]))"
   ]
  },
  {
   "cell_type": "markdown",
   "id": "74e703b0",
   "metadata": {},
   "source": [
    "#### Very Active Data"
   ]
  },
  {
   "cell_type": "code",
   "execution_count": null,
   "id": "ddd0016e",
   "metadata": {},
   "outputs": [],
   "source": [
    "%%time\n",
    "ver_act = pd.read_json(\"ver_act_lang_filtered_pre_proc.ndjson\",lines=True)"
   ]
  },
  {
   "cell_type": "code",
   "execution_count": 117,
   "id": "3adf1a8b",
   "metadata": {
    "scrolled": true
   },
   "outputs": [
    {
     "data": {
      "text/plain": [
       "0.34552287239999185"
      ]
     },
     "execution_count": 117,
     "metadata": {},
     "output_type": "execute_result"
    }
   ],
   "source": [
    "# gives us an idea of the % of the data overall we're working with here\n",
    "len(ver_act[ver_act[\"dmn\"].notna()])/len(ver_act)"
   ]
  },
  {
   "cell_type": "code",
   "execution_count": 118,
   "id": "60061d40",
   "metadata": {},
   "outputs": [
    {
     "data": {
      "text/plain": [
       "0.8130987707450841"
      ]
     },
     "execution_count": 118,
     "metadata": {},
     "output_type": "execute_result"
    }
   ],
   "source": [
    "# gives ua an idea of the % of posts which contain a url\n",
    "len(ver_act[(ver_act[\"dmn\"].notna()) & (ver_act[\"t\"]==\"p\")])/len(ver_act[ver_act[\"t\"]==\"p\"])"
   ]
  },
  {
   "cell_type": "code",
   "execution_count": 121,
   "id": "0575c6f6",
   "metadata": {},
   "outputs": [
    {
     "data": {
      "text/plain": [
       "0.03942236011237324"
      ]
     },
     "execution_count": 121,
     "metadata": {},
     "output_type": "execute_result"
    }
   ],
   "source": [
    "# gives us an idea of the % of comments which contain a url\n",
    "len(ver_act[(ver_act[\"dmn\"].notna()) & (ver_act[\"t\"]==\"c\")])/len(ver_act[ver_act[\"t\"]==\"c\"])"
   ]
  },
  {
   "cell_type": "code",
   "execution_count": 104,
   "id": "dce212dd",
   "metadata": {
    "scrolled": true
   },
   "outputs": [
    {
     "name": "stdout",
     "output_type": "stream",
     "text": [
      "CPU times: total: 2.28 s\n",
      "Wall time: 2.29 s\n"
     ]
    },
    {
     "data": {
      "text/plain": [
       "t\n",
       "c    0.068954\n",
       "p    0.931046\n",
       "Name: id, dtype: float64"
      ]
     },
     "execution_count": 104,
     "metadata": {},
     "output_type": "execute_result"
    }
   ],
   "source": [
    "%%time\n",
    "# returns the count where there is a url and the count grouped by type\n",
    "# the number of rows for each where there is a domain/the number of rows where this is a domain\n",
    "(ver_act[ver_act[\"dmn\"].notna()].groupby(\"t\")[\"id\"].count()/len(ver_act[ver_act[\"dmn\"].notna()]))"
   ]
  },
  {
   "cell_type": "markdown",
   "id": "ec11ef98",
   "metadata": {},
   "source": [
    "#### Extremely Active Data"
   ]
  },
  {
   "cell_type": "code",
   "execution_count": null,
   "id": "9bdf399a",
   "metadata": {},
   "outputs": [],
   "source": [
    "%%time\n",
    "ext_act = pd.read_json(\"ext_act_lang_filtered_pre_proc.ndjson\",lines=True)"
   ]
  },
  {
   "cell_type": "code",
   "execution_count": 119,
   "id": "97263894",
   "metadata": {},
   "outputs": [
    {
     "data": {
      "text/plain": [
       "0.7455257120571699"
      ]
     },
     "execution_count": 119,
     "metadata": {},
     "output_type": "execute_result"
    }
   ],
   "source": [
    "# gives us an idea of the % of the data overall we're working with here\n",
    "len(ext_act[ext_act[\"dmn\"].notna()])/len(ext_act)"
   ]
  },
  {
   "cell_type": "code",
   "execution_count": 125,
   "id": "d4c5fe9f",
   "metadata": {},
   "outputs": [
    {
     "data": {
      "text/plain": [
       "0.8812536991589479"
      ]
     },
     "execution_count": 125,
     "metadata": {},
     "output_type": "execute_result"
    }
   ],
   "source": [
    "# gives ua an idea of the % of posts which contain a url\n",
    "len(ext_act[(ext_act[\"dmn\"].notna()) & (ext_act[\"t\"]==\"p\")])/len(ext_act[ext_act[\"t\"]==\"p\"])"
   ]
  },
  {
   "cell_type": "code",
   "execution_count": 126,
   "id": "5d569bce",
   "metadata": {},
   "outputs": [
    {
     "data": {
      "text/plain": [
       "0.045168506540874384"
      ]
     },
     "execution_count": 126,
     "metadata": {},
     "output_type": "execute_result"
    }
   ],
   "source": [
    "# gives us an idea of the % of comments which contain a url\n",
    "len(ext_act[(ext_act[\"dmn\"].notna()) & (ext_act[\"t\"]==\"c\")])/len(ext_act[ext_act[\"t\"]==\"c\"])"
   ]
  },
  {
   "cell_type": "code",
   "execution_count": 105,
   "id": "7f665f40",
   "metadata": {},
   "outputs": [
    {
     "name": "stdout",
     "output_type": "stream",
     "text": [
      "CPU times: total: 734 ms\n",
      "Wall time: 730 ms\n"
     ]
    },
    {
     "data": {
      "text/plain": [
       "t\n",
       "c    0.009835\n",
       "p    0.990165\n",
       "Name: id, dtype: float64"
      ]
     },
     "execution_count": 105,
     "metadata": {},
     "output_type": "execute_result"
    }
   ],
   "source": [
    "%%time\n",
    "# returns the count where there is a url and the count grouped by type\n",
    "# the number of rows for each where there is a domain/the number of rows where this is a domain\n",
    "(ext_act[ext_act[\"dmn\"].notna()].groupby(\"t\")[\"id\"].count()/len(ext_act[ext_act[\"dmn\"].notna()]))"
   ]
  },
  {
   "cell_type": "code",
   "execution_count": null,
   "id": "2ffdd516",
   "metadata": {},
   "outputs": [],
   "source": []
  }
 ],
 "metadata": {
  "kernelspec": {
   "display_name": "Python 3 (ipykernel)",
   "language": "python",
   "name": "python3"
  },
  "language_info": {
   "codemirror_mode": {
    "name": "ipython",
    "version": 3
   },
   "file_extension": ".py",
   "mimetype": "text/x-python",
   "name": "python",
   "nbconvert_exporter": "python",
   "pygments_lexer": "ipython3",
   "version": "3.8.8"
  }
 },
 "nbformat": 4,
 "nbformat_minor": 5
}

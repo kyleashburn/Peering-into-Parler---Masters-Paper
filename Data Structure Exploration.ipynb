{
 "cells": [
  {
   "cell_type": "code",
   "execution_count": 1,
   "id": "acc3af60",
   "metadata": {},
   "outputs": [],
   "source": [
    "import pandas as pd\n",
    "import json"
   ]
  },
  {
   "cell_type": "markdown",
   "id": "32b8105a",
   "metadata": {},
   "source": [
    "# pulling 10000 posts & 10000 comments"
   ]
  },
  {
   "cell_type": "code",
   "execution_count": 45,
   "id": "1b481de2",
   "metadata": {},
   "outputs": [],
   "source": [
    "# opening the and pulling some stuff from the posts file\n",
    "line_count = 0\n",
    "\n",
    "\n",
    "post_struct = open(\"post_struct.ndjson\",\"a\", encoding='utf-8')\n",
    "\n",
    "\n",
    "with open(\"post.ndjson\", encoding=\"utf-8\") as f_in:\n",
    "    for line in f_in:\n",
    "        if line_count < 100000:\n",
    "            line_json = json.loads(line)\n",
    "            \n",
    "            post_struct.write((json.dumps(line_json)+\"\\n\"))\n",
    "            \n",
    "            \n",
    "            \n",
    "        else:\n",
    "            break\n",
    "        line_count += 1"
   ]
  },
  {
   "cell_type": "code",
   "execution_count": 46,
   "id": "e2eca7c0",
   "metadata": {},
   "outputs": [],
   "source": [
    "line_count = 0\n",
    "\n",
    "comment_struct = open(\"comment_struct.ndjson\",\"a\", encoding='utf-8')\n",
    "\n",
    "\n",
    "with open(\"comment.ndjson\", encoding=\"utf-8\") as f_in:\n",
    "    for line in f_in:\n",
    "        if line_count < 100000:\n",
    "            line_json = json.loads(line)\n",
    "            \n",
    "            comment_struct.write((json.dumps(line_json)+\"\\n\"))\n",
    "            \n",
    "            \n",
    "            \n",
    "        else:\n",
    "            break\n",
    "        line_count += 1"
   ]
  },
  {
   "cell_type": "markdown",
   "id": "8559e876",
   "metadata": {},
   "source": [
    "#### Exploring the structure"
   ]
  },
  {
   "cell_type": "code",
   "execution_count": 48,
   "id": "914e83ef",
   "metadata": {},
   "outputs": [],
   "source": [
    "struct = pd.read_json(\"post_struct.ndjson\", lines=True)"
   ]
  },
  {
   "cell_type": "code",
   "execution_count": 54,
   "id": "e4874eac",
   "metadata": {},
   "outputs": [],
   "source": [
    "post =  pd.read_json(\"post_struct.ndjson\", lines=True)"
   ]
  },
  {
   "cell_type": "code",
   "execution_count": 63,
   "id": "9dbe3967",
   "metadata": {},
   "outputs": [
    {
     "data": {
      "text/html": [
       "<div>\n",
       "<style scoped>\n",
       "    .dataframe tbody tr th:only-of-type {\n",
       "        vertical-align: middle;\n",
       "    }\n",
       "\n",
       "    .dataframe tbody tr th {\n",
       "        vertical-align: top;\n",
       "    }\n",
       "\n",
       "    .dataframe thead th {\n",
       "        text-align: right;\n",
       "    }\n",
       "</style>\n",
       "<table border=\"1\" class=\"dataframe\">\n",
       "  <thead>\n",
       "    <tr style=\"text-align: right;\">\n",
       "      <th></th>\n",
       "      <th>t</th>\n",
       "      <th>id</th>\n",
       "      <th>cd</th>\n",
       "      <th>c</th>\n",
       "      <th>bo</th>\n",
       "      <th>u</th>\n",
       "      <th>un</th>\n",
       "      <th>ls</th>\n",
       "      <th>cn</th>\n",
       "      <th>im</th>\n",
       "      <th>uv</th>\n",
       "      <th>url</th>\n",
       "      <th>dmn</th>\n",
       "      <th>ar</th>\n",
       "      <th>ve</th>\n",
       "      <th>ht</th>\n",
       "    </tr>\n",
       "  </thead>\n",
       "  <tbody>\n",
       "  </tbody>\n",
       "</table>\n",
       "</div>"
      ],
      "text/plain": [
       "Empty DataFrame\n",
       "Columns: [t, id, cd, c, bo, u, un, ls, cn, im, uv, url, dmn, ar, ve, ht]\n",
       "Index: []"
      ]
     },
     "execution_count": 63,
     "metadata": {},
     "output_type": "execute_result"
    }
   ],
   "source": [
    "post[post[\"u\"]==\"43d18c2498394dadb25e09dddcc4ae4a\"]"
   ]
  },
  {
   "cell_type": "code",
   "execution_count": 52,
   "id": "6cfbfbd2",
   "metadata": {},
   "outputs": [],
   "source": [
    "struct = pd.read_json(\"comment_struct.ndjson\",lines=True)"
   ]
  },
  {
   "cell_type": "code",
   "execution_count": 74,
   "id": "c84b1953",
   "metadata": {},
   "outputs": [
    {
     "data": {
      "text/plain": [
       "count                                35631\n",
       "unique                               25736\n",
       "top       e4e6039d50a24a49b45b6beb6ef8dc09\n",
       "freq                                    49\n",
       "Name: cv, dtype: object"
      ]
     },
     "execution_count": 74,
     "metadata": {},
     "output_type": "execute_result"
    }
   ],
   "source": [
    "struct[\"cv\"].describe()"
   ]
  },
  {
   "cell_type": "code",
   "execution_count": 75,
   "id": "c90a2d2c",
   "metadata": {},
   "outputs": [
    {
     "data": {
      "text/plain": [
       "'e4e6039d50a24a49b45b6beb6ef8dc09'"
      ]
     },
     "execution_count": 75,
     "metadata": {},
     "output_type": "execute_result"
    }
   ],
   "source": [
    "\"e4e6039d50a24a49b45b6beb6ef8dc09\""
   ]
  },
  {
   "cell_type": "code",
   "execution_count": 88,
   "id": "13746b7c",
   "metadata": {
    "scrolled": false
   },
   "outputs": [
    {
     "data": {
      "text/plain": [
       "count                                21212\n",
       "unique                               11836\n",
       "top       a3b6339bf9e4447e937b1c1c107e9067\n",
       "freq                                     6\n",
       "Name: rt, dtype: object"
      ]
     },
     "execution_count": 88,
     "metadata": {},
     "output_type": "execute_result"
    }
   ],
   "source": [
    "struct[\"rt\"].describe()"
   ]
  },
  {
   "cell_type": "code",
   "execution_count": 105,
   "id": "b2f2098b",
   "metadata": {},
   "outputs": [],
   "source": [
    "pd.set_option(\"display.max_rows\", 50)\n"
   ]
  },
  {
   "cell_type": "code",
   "execution_count": 92,
   "id": "f465ef40",
   "metadata": {},
   "outputs": [
    {
     "data": {
      "text/plain": [
       "Index(['t', 'id', 'cd', 'c', 'bo', 'cv', 'rt', 'po', 'pa', 'u', 'un', 'ls',\n",
       "       'z', 'cn', 'cz', 'sc', 'uv', 'ht', 'url', 'dmn', 'dv', 've'],\n",
       "      dtype='object')"
      ]
     },
     "execution_count": 92,
     "metadata": {},
     "output_type": "execute_result"
    }
   ],
   "source": [
    "struct.columns"
   ]
  },
  {
   "cell_type": "code",
   "execution_count": 120,
   "id": "66f2388b",
   "metadata": {},
   "outputs": [
    {
     "data": {
      "text/plain": [
       "76fd3bda25304d5d93c13e39f3f6050c    49\n",
       "4fc9435e6f5f4d9383a680362fc07d15    37\n",
       "90e725e001cf45a6b9523ab2f1f0c148    32\n",
       "2641f93a3a3b44a5a27fa79d92becfc4    29\n",
       "6920e40df5904a6492cc2b1ce7806d82    28\n",
       "                                    ..\n",
       "0b39fc46ae9942c7831937284f7daaf2     1\n",
       "c32c751bf5bc40d2b9691900d16dcb54     1\n",
       "1131af31f16a42c389bb648435bed8e5     1\n",
       "b67d9499cc864d1b888c8271d95223b2     1\n",
       "5f3f822b6751401daed3faabec850ce4     1\n",
       "Name: po, Length: 83299, dtype: int64"
      ]
     },
     "execution_count": 120,
     "metadata": {},
     "output_type": "execute_result"
    }
   ],
   "source": [
    "struct[\"po\"].value_counts()"
   ]
  },
  {
   "cell_type": "code",
   "execution_count": 121,
   "id": "c16006ea",
   "metadata": {},
   "outputs": [
    {
     "data": {
      "text/plain": [
       "c5a94fd8ccb5476e8d0a866736c2253b    49\n",
       "ec39d87f48144843b27f267701d1faa5    12\n",
       "7a5a186d2c7f48a6a96321c4c6210e4c    12\n",
       "05b70e34fcfb4b909fecd96b60d6ecf0    10\n",
       "3e8c1080421240f99fe0b71fbbc33611    10\n",
       "                                    ..\n",
       "72aab7b8149b48ea85a3f0e507750867     1\n",
       "dae52c6bdf294085ae2326811a634619     1\n",
       "4d7748b6bff74a4e8a408b4c7272ac47     1\n",
       "394ea2ca84cc403f88d0461b0f6c58cb     1\n",
       "a0f6f2d7f15941a9b945576e1e8e25f1     1\n",
       "Name: pa, Length: 73706, dtype: int64"
      ]
     },
     "execution_count": 121,
     "metadata": {},
     "output_type": "execute_result"
    }
   ],
   "source": [
    "struct[\"pa\"].value_counts()"
   ]
  },
  {
   "cell_type": "code",
   "execution_count": 118,
   "id": "10418fc6",
   "metadata": {},
   "outputs": [
    {
     "data": {
      "text/plain": [
       "c71e7b36973b47ddb9c29be0a5d64fb6    2\n",
       "b1dc9c61c6204117931390872162ff7a    2\n",
       "c30923b2990c4629905e2f0aa2cc15e8    2\n",
       "1cd873e59b1446f0b000a7e67fe08997    2\n",
       "0288baff6c504531814e010237510fe5    2\n",
       "2ff35d616be24addb60c8aa8a6e56570    2\n",
       "Name: rt, dtype: int64"
      ]
     },
     "execution_count": 118,
     "metadata": {},
     "output_type": "execute_result"
    }
   ],
   "source": [
    "struct[struct[\"cv\"]==\"fd09128c2aee4483bfd768d984894853\"][\"rt\"].value_counts()"
   ]
  },
  {
   "cell_type": "code",
   "execution_count": null,
   "id": "39050e97",
   "metadata": {},
   "outputs": [],
   "source": []
  }
 ],
 "metadata": {
  "kernelspec": {
   "display_name": "Python 3 (ipykernel)",
   "language": "python",
   "name": "python3"
  },
  "language_info": {
   "codemirror_mode": {
    "name": "ipython",
    "version": 3
   },
   "file_extension": ".py",
   "mimetype": "text/x-python",
   "name": "python",
   "nbconvert_exporter": "python",
   "pygments_lexer": "ipython3",
   "version": "3.8.8"
  }
 },
 "nbformat": 4,
 "nbformat_minor": 5
}

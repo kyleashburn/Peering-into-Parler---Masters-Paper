{
 "cells": [
  {
   "cell_type": "code",
   "execution_count": 93,
   "id": "a5456f65",
   "metadata": {},
   "outputs": [],
   "source": [
    "import ujson as json\n",
    "import pandas as pd\n",
    "import numpy as np\n",
    "from sklearn.feature_extraction.text import CountVectorizer\n",
    "import nltk\n",
    "from nltk.corpus import stopwords\n",
    "import contractions\n",
    "\n"
   ]
  },
  {
   "cell_type": "code",
   "execution_count": 94,
   "id": "3ca342c8",
   "metadata": {},
   "outputs": [],
   "source": [
    "df = pd.read_json(\"ext_act_lang_filtered.ndjson\", lines=True)"
   ]
  },
  {
   "cell_type": "markdown",
   "id": "689ed577",
   "metadata": {},
   "source": [
    "Pre-processing order\n",
    "1. tokenize \n",
    "2. downcase\n",
    "3. punct\n",
    "4. stopwords\n",
    "5. lemmatize\n",
    "6. realtive pruning"
   ]
  },
  {
   "cell_type": "code",
   "execution_count": 1,
   "id": "2b1c4825",
   "metadata": {},
   "outputs": [],
   "source": [
    "import string\n",
    "punct = string.punctuation\n",
    "punct = punct.replace(\"#\", \"‘\") #removing hashtag and replacing with a stray type of apostrophe that broke through before\n"
   ]
  },
  {
   "cell_type": "code",
   "execution_count": 2,
   "id": "85bf97b4",
   "metadata": {},
   "outputs": [
    {
     "data": {
      "text/plain": [
       "'!\"‘$%&\\'()*+,-./:;<=>?@[\\\\]^_`{|}~'"
      ]
     },
     "execution_count": 2,
     "metadata": {},
     "output_type": "execute_result"
    }
   ],
   "source": [
    "punct"
   ]
  },
  {
   "cell_type": "code",
   "execution_count": 114,
   "id": "d963c8a8",
   "metadata": {},
   "outputs": [],
   "source": [
    "# global vars, but not too horrible I figure\n",
    "stopwords = nltk.corpus.stopwords.words(\"english\")\n",
    "import string\n",
    "punct = string.punctuation\n",
    "punct = punct.replace(\"#\", \"‘\") #removing hashtag and replacing with a stray type of apostrophe that broke through before\n",
    "from nltk.stem import WordNetLemmatizer\n",
    "wordnet_lemmatizer = WordNetLemmatizer()\n",
    "\n",
    "# defining a pre-proc function that will tokenize text\n",
    "def pre_proc(x):\n",
    "    # splitting contractions before splitting up the terms => helps with pruning\n",
    "    # trying to expand the contractions\n",
    "    try:    \n",
    "        x = contractions.fix(x)\n",
    "    \n",
    "    # if that fails, trying to use unidecode to correct\n",
    "    except IndexError:\n",
    "        # trying to unidecode\n",
    "        try:\n",
    "            x = contractions.fix(unidecode(x))\n",
    "        # printing excpetion, and input leading to that\n",
    "        except Exception as eror:\n",
    "            print(\"Exception is:\", error)\n",
    "            print(\"Exception on:\")\n",
    "            print(x)        \n",
    "        \n",
    "    # splitting the terms up\n",
    "    x = x.split()\n",
    "    \n",
    "    # removing the empty items\n",
    "    x = [word for word in x if len(word)>0]\n",
    "\n",
    "    # lowercasing the terms\n",
    "    x = [word.lower() for word in x]\n",
    "    \n",
    "    # removing emoji & conveniently, some punctuation\n",
    "    x = [word.encode(\"ascii\", \"ignore\").decode(\"ascii\") for word in x]\n",
    "\n",
    "    # removing punctuation (with the exception of #)\n",
    "    x = [word.translate(str.maketrans(\"\",\"\",punct)) for word in x]    \n",
    "       \n",
    "    # keeping numbers because they *might* prove important -> avoid being overly aggressive\n",
    "\n",
    "    # removing the empty items\n",
    "    x = [word for word in x if len(word)>0]\n",
    "    \n",
    "    # removing stopwords\n",
    "    x = [word for word in x if word not in stopwords]\n",
    "    \n",
    "    # lemmatization\n",
    "    x = [wordnet_lemmatizer.lemmatize(word) for word in x]\n",
    "\n",
    "    # rejoining the list back into a string   \n",
    "    x = \" \".join(x)  \n",
    "\n",
    "    return x"
   ]
  },
  {
   "cell_type": "code",
   "execution_count": 115,
   "id": "931f09ac",
   "metadata": {},
   "outputs": [],
   "source": [
    "def file_name(file):\n",
    "    # splitting on \".\"\n",
    "    file = file.split(\".\")\n",
    "    # adding the name to show it's been filtered\n",
    "    file[0] = file[0] + \"_pre_proc\"\n",
    "    # ading the file type\n",
    "    file = file[0] + \".\" + file[1]\n",
    "    # returning the file\n",
    "    return file"
   ]
  },
  {
   "cell_type": "code",
   "execution_count": 116,
   "id": "6eac3d21",
   "metadata": {},
   "outputs": [],
   "source": [
    "# file_list\n",
    "file_list = [\"min_act_lang_filtered.ndjson\",\"mod_act_lang_filtered.ndjson\",\n",
    "             \"ver_act_lang_filtered.ndjson\",\"ext_act_lang_filtered.ndjson\"]"
   ]
  },
  {
   "cell_type": "code",
   "execution_count": 117,
   "id": "b9f04872",
   "metadata": {
    "scrolled": false
   },
   "outputs": [
    {
     "name": "stdout",
     "output_type": "stream",
     "text": [
      "min_act_lang_filtered.ndjson\n",
      "mod_act_lang_filtered.ndjson\n",
      "ver_act_lang_filtered.ndjson\n",
      "ext_act_lang_filtered.ndjson\n",
      "CPU times: total: 2h 2min 17s\n",
      "Wall time: 2h 3min 21s\n"
     ]
    }
   ],
   "source": [
    "%%time\n",
    "# cycling through the file_list\n",
    "for file in file_list:\n",
    "    # printing the file name\n",
    "    print(file)\n",
    "    \n",
    "    # reading in the file\n",
    "    df = pd.read_json(file, lines=True)\n",
    "    \n",
    "    # applying the pre-proc function\n",
    "    df[\"bo\"] = df[\"bo\"].apply(pre_proc)\n",
    "    \n",
    "    # changing the lang file\n",
    "    f_name = file_name(file)\n",
    "    \n",
    "    df.to_json(f_name, orient=\"records\",lines=True)"
   ]
  }
 ],
 "metadata": {
  "kernelspec": {
   "display_name": "Python 3 (ipykernel)",
   "language": "python",
   "name": "python3"
  },
  "language_info": {
   "codemirror_mode": {
    "name": "ipython",
    "version": 3
   },
   "file_extension": ".py",
   "mimetype": "text/x-python",
   "name": "python",
   "nbconvert_exporter": "python",
   "pygments_lexer": "ipython3",
   "version": "3.8.8"
  }
 },
 "nbformat": 4,
 "nbformat_minor": 5
}

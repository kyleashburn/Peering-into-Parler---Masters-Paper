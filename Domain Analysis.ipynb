{
 "cells": [
  {
   "cell_type": "code",
   "execution_count": 1,
   "id": "a02ec202",
   "metadata": {},
   "outputs": [],
   "source": [
    "import json\n",
    "import pandas as pd"
   ]
  },
  {
   "cell_type": "code",
   "execution_count": 2,
   "id": "3e30582e",
   "metadata": {},
   "outputs": [],
   "source": [
    "# function to get the counts for domains in series passed into it\n",
    "# pass in the series and it'll iterate through the whole thing\n",
    "def count_dmns(series) -> dict:\n",
    "    dmn_dict = {}\n",
    "    \n",
    "    # kinda brute force but I'm not sure how to more efficiently do this\n",
    "    for item in series:\n",
    "        if type(item) == list:\n",
    "            for dmn in item:\n",
    "                if dmn not in dmn_dict:\n",
    "                    dmn_dict.setdefault(dmn, 1)\n",
    "\n",
    "                else:\n",
    "                    dmn_dict[dmn] += 1\n",
    "\n",
    "        else:\n",
    "            if item not in dmn_dict:\n",
    "                dmn_dict.setdefault(item, 1)\n",
    "\n",
    "            else:\n",
    "                dmn_dict[item] += 1\n",
    "                \n",
    "    # returning the dictionary of terms \n",
    "    return dmn_dict"
   ]
  },
  {
   "cell_type": "code",
   "execution_count": 3,
   "id": "2ecc3368",
   "metadata": {},
   "outputs": [],
   "source": [
    "# makes a function to pull the top n domains for each subcategory and place in a dictionary\n",
    "def top_dmns(dmn_df, dmn_dict, top_n):    \n",
    "    # finding the top domains overall\n",
    "    dmns_count = count_dmns(dmn_df[\"dmn\"])\n",
    "    \n",
    "    dmn_dict.setdefault(\"overall\", \n",
    "                       dict((sorted(dmns_count.items(), key=lambda item: item[1],reverse=True))[0:top_n]))    \n",
    "        \n",
    "    # finding the top domains where the t = p\n",
    "    # returns those dmns which are from the posts\n",
    "    post_dmns = count_dmns(dmn_df[dmn_df[\"t\"]==\"p\"][\"dmn\"])\n",
    "    \n",
    "    dmn_dict.setdefault(\"posts\", \n",
    "                        dict((sorted(post_dmns.items(), key=lambda item: item[1],reverse=True))[0:top_n]))\n",
    "\n",
    "    # finding the top domains where the t = c\n",
    "    # returns those dmns which are from the comments\n",
    "    comment_dmns = count_dmns(dmn_df[dmn_df[\"t\"]==\"c\"][\"dmn\"])\n",
    "\n",
    "    dmn_dict.setdefault(\"comments\", \n",
    "                        dict((sorted(comment_dmns.items(), key=lambda item: item[1],reverse=True))[0:top_n]))\n",
    "    \n",
    "    # finding the top domains where the body is empty\n",
    "    # returns those dmns which are the ones where the body of the post is empty\n",
    "    empty_post_dmns = count_dmns(dmn_df[dmn_df[\"bo\"].isna()][\"dmn\"])\n",
    "    \n",
    "    dmn_dict.setdefault(\"empty\", \n",
    "                       dict((sorted(empty_post_dmns.items(), key=lambda item: item[1],reverse=True))[0:top_n]))\n",
    "        \n",
    "    return dmn_dict"
   ]
  },
  {
   "cell_type": "code",
   "execution_count": null,
   "id": "400641d0",
   "metadata": {},
   "outputs": [],
   "source": [
    "# next step is to go ahead and enable me to loop through the 4 files"
   ]
  },
  {
   "cell_type": "code",
   "execution_count": 7,
   "id": "76ce15e3",
   "metadata": {},
   "outputs": [],
   "source": [
    "file_list = [\"min_act.ndjson\",\"mod_act.ndjson\",\"ver_act.ndjson\", \"ext_act.ndjson\"]"
   ]
  },
  {
   "cell_type": "code",
   "execution_count": 14,
   "id": "c0aaf305",
   "metadata": {},
   "outputs": [
    {
     "name": "stdout",
     "output_type": "stream",
     "text": [
      "min_act.ndjson\n",
      "mod_act.ndjson\n",
      "ver_act.ndjson\n",
      "ext_act.ndjson\n",
      "CPU times: total: 8min 40s\n",
      "Wall time: 9min 29s\n"
     ]
    }
   ],
   "source": [
    "%%time \n",
    "\n",
    "dmn_dict = {}\n",
    "\n",
    "for file in file_list:\n",
    "    dmn_dict.setdefault(file, {})\n",
    "    \n",
    "    # reading in the file\n",
    "    df = pd.read_json(file, lines=True)\n",
    "    \n",
    "    # filtering to just those having domains\n",
    "    dmns_df = df[~df[\"dmn\"].isna()]\n",
    "    \n",
    "    print(file)\n",
    "    # applying the function to pull the top 50 domains in each subcategory from the files \n",
    "    dmn_dict[file] = top_dmns(dmns_df, dmn_dict[file], 50)\n",
    "    "
   ]
  },
  {
   "cell_type": "code",
   "execution_count": 19,
   "id": "bb25d40c",
   "metadata": {},
   "outputs": [],
   "source": [
    "# saving the top 50 domains for each sbset of data to a json file\n",
    "with open('top50dmns.json', 'w') as outfile:\n",
    "    json.dump(dmn_dict, outfile)"
   ]
  }
 ],
 "metadata": {
  "kernelspec": {
   "display_name": "Python 3 (ipykernel)",
   "language": "python",
   "name": "python3"
  },
  "language_info": {
   "codemirror_mode": {
    "name": "ipython",
    "version": 3
   },
   "file_extension": ".py",
   "mimetype": "text/x-python",
   "name": "python",
   "nbconvert_exporter": "python",
   "pygments_lexer": "ipython3",
   "version": "3.8.8"
  }
 },
 "nbformat": 4,
 "nbformat_minor": 5
}
